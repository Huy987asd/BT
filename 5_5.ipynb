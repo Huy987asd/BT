{
  "nbformat": 4,
  "nbformat_minor": 0,
  "metadata": {
    "colab": {
      "provenance": [],
      "gpuType": "T4",
      "mount_file_id": "1neFC8H4dNbBgy5aNWaxopsjHatzs3cZW",
      "authorship_tag": "ABX9TyP+YNdeAnU7sjzcHeStfJjJ",
      "include_colab_link": true
    },
    "kernelspec": {
      "name": "python3",
      "display_name": "Python 3"
    },
    "language_info": {
      "name": "python"
    },
    "accelerator": "GPU",
    "gpuClass": "standard"
  },
  "cells": [
    {
      "cell_type": "markdown",
      "metadata": {
        "id": "view-in-github",
        "colab_type": "text"
      },
      "source": [
        "<a href=\"https://colab.research.google.com/github/Huy987asd/BT/blob/main/5_5.ipynb\" target=\"_parent\"><img src=\"https://colab.research.google.com/assets/colab-badge.svg\" alt=\"Open In Colab\"/></a>"
      ]
    },
    {
      "cell_type": "code",
      "execution_count": 29,
      "metadata": {
        "colab": {
          "base_uri": "https://localhost:8080/"
        },
        "id": "46PDCm-TNTzQ",
        "outputId": "219a4ce2-9cf3-4056-e490-8aeee7179b16"
      },
      "outputs": [
        {
          "output_type": "stream",
          "name": "stdout",
          "text": [
            "Looking in indexes: https://pypi.org/simple, https://us-python.pkg.dev/colab-wheels/public/simple/\n",
            "Requirement already satisfied: SpeechRecognition in /usr/local/lib/python3.9/dist-packages (3.10.0)\n",
            "Requirement already satisfied: requests>=2.26.0 in /usr/local/lib/python3.9/dist-packages (from SpeechRecognition) (2.27.1)\n",
            "Requirement already satisfied: urllib3<1.27,>=1.21.1 in /usr/local/lib/python3.9/dist-packages (from requests>=2.26.0->SpeechRecognition) (1.26.15)\n",
            "Requirement already satisfied: idna<4,>=2.5 in /usr/local/lib/python3.9/dist-packages (from requests>=2.26.0->SpeechRecognition) (3.4)\n",
            "Requirement already satisfied: charset-normalizer~=2.0.0 in /usr/local/lib/python3.9/dist-packages (from requests>=2.26.0->SpeechRecognition) (2.0.12)\n",
            "Requirement already satisfied: certifi>=2017.4.17 in /usr/local/lib/python3.9/dist-packages (from requests>=2.26.0->SpeechRecognition) (2022.12.7)\n"
          ]
        }
      ],
      "source": [
        "pip install SpeechRecognition"
      ]
    },
    {
      "cell_type": "code",
      "source": [
        "\n"
      ],
      "metadata": {
        "id": "EDJE3YopOnqy"
      },
      "execution_count": 29,
      "outputs": []
    },
    {
      "cell_type": "code",
      "source": [
        "import speech_recognition as sr\n",
        "\n",
        "r= sr.Recognizer()\n",
        "test = sr.AudioFile('/content/drive/MyDrive/Forestgump.wav')\n",
        "with test as source:\n",
        "  data2= r.record(source,offset=15, duration=60)\n",
        "  text = r.recognize_google(data2, language='vi')\n",
        "  print(text)\n"
      ],
      "metadata": {
        "colab": {
          "base_uri": "https://localhost:8080/"
        },
        "id": "dhfnLF-6Z4bu",
        "outputId": "de725d66-db7b-4944-8275-944074644aa4"
      },
      "execution_count": 30,
      "outputs": [
        {
          "output_type": "stream",
          "name": "stdout",
          "text": [
            "ở nơi đâu cùng với tao tao tao cũng đã quên cô ta cũng giống như bạn Đã Thấy Gì Trong Đêm Nay thì cũng đã lâu thì vớt ra giờ em ở đâu chạm vào nỗi đau Thanh bao nhiêu từ hai ta sau này đã qua tao có muốn giữ nỗi buồn Nỗi Đau\n"
          ]
        }
      ]
    },
    {
      "cell_type": "code",
      "source": [
        "\n",
        "with test as source:\n",
        "  data3= r.record(source,offset=60, duration=90)\n",
        "  text = r.recognize_google(data3, language='vi')\n",
        "  print(text)\n"
      ],
      "metadata": {
        "colab": {
          "base_uri": "https://localhost:8080/"
        },
        "id": "9HkYgUTmafs1",
        "outputId": "a9b5ace5-bc41-4be1-a3c1-6dbddb292fa8"
      },
      "execution_count": 31,
      "outputs": [
        {
          "output_type": "stream",
          "name": "stdout",
          "text": [
            "hôm nay xuống trông coi phim này thì cũng đã lâu thì bước ra mấy giờ em ở đâu chạm vào nỗi đau tăng bao nhiêu từ thời ta sau ngày dài đã qua tao có muốn giữ nỗi buồn đó lâu về những ước mơ thấy mấy thằng bạn thân\n"
          ]
        }
      ]
    },
    {
      "cell_type": "code",
      "source": [
        "\n",
        "with test as source:\n",
        "  data4= r.record(source,offset=90, duration=140)\n",
        "  text = r.recognize_google(data4, language='vi')\n",
        "  print(text)\n"
      ],
      "metadata": {
        "colab": {
          "base_uri": "https://localhost:8080/"
        },
        "id": "oFexLfQ_a6Qs",
        "outputId": "e192a6f7-afbc-44fc-932c-fca051849f56"
      },
      "execution_count": 32,
      "outputs": [
        {
          "output_type": "stream",
          "name": "stdout",
          "text": [
            "về những ước mơ em ơi em ơi em thấy mấy thằng bạn chơi thể thao cuộc sống\n"
          ]
        }
      ]
    },
    {
      "cell_type": "code",
      "source": [
        "pip install gTTS\n"
      ],
      "metadata": {
        "colab": {
          "base_uri": "https://localhost:8080/"
        },
        "id": "1rAZ6829cf52",
        "outputId": "40f3aa39-6c48-4707-e0f6-03cf21003eaf"
      },
      "execution_count": 33,
      "outputs": [
        {
          "output_type": "stream",
          "name": "stdout",
          "text": [
            "Looking in indexes: https://pypi.org/simple, https://us-python.pkg.dev/colab-wheels/public/simple/\n",
            "Collecting gTTS\n",
            "  Downloading gTTS-2.3.2-py3-none-any.whl (28 kB)\n",
            "Requirement already satisfied: click<8.2,>=7.1 in /usr/local/lib/python3.9/dist-packages (from gTTS) (8.1.3)\n",
            "Requirement already satisfied: requests<3,>=2.27 in /usr/local/lib/python3.9/dist-packages (from gTTS) (2.27.1)\n",
            "Requirement already satisfied: charset-normalizer~=2.0.0 in /usr/local/lib/python3.9/dist-packages (from requests<3,>=2.27->gTTS) (2.0.12)\n",
            "Requirement already satisfied: idna<4,>=2.5 in /usr/local/lib/python3.9/dist-packages (from requests<3,>=2.27->gTTS) (3.4)\n",
            "Requirement already satisfied: urllib3<1.27,>=1.21.1 in /usr/local/lib/python3.9/dist-packages (from requests<3,>=2.27->gTTS) (1.26.15)\n",
            "Requirement already satisfied: certifi>=2017.4.17 in /usr/local/lib/python3.9/dist-packages (from requests<3,>=2.27->gTTS) (2022.12.7)\n",
            "Installing collected packages: gTTS\n",
            "Successfully installed gTTS-2.3.2\n"
          ]
        }
      ]
    },
    {
      "cell_type": "code",
      "source": [
        "from gtts import gTTS\n",
        "import os\n",
        "A = 'Now hush, little baby  dont you cry\\\n",
        "Everythings gonna be alright\\\n",
        "Stiffen that upper lip up, little lady, I told ya\\\n",
        "Daddys here to hold ya through the night\\\n",
        "I know Mommys not here right now and we dont know why\\\n",
        "We feel how we feel inside\\\n",
        "It may seem a little crazy, pretty baby\\\n",
        "But I promise Mamas gon be alright'\n",
        "speak = gTTS(text=A, lang='en', slow=False)\n",
        "speak.save('/content/drive/MyDrive/mockingbird.mp3')"
      ],
      "metadata": {
        "id": "tKh9426vcwGI"
      },
      "execution_count": 43,
      "outputs": []
    },
    {
      "cell_type": "code",
      "source": [
        "pip install googletrans==3.1.0a0"
      ],
      "metadata": {
        "colab": {
          "base_uri": "https://localhost:8080/"
        },
        "id": "kutQADTnhHHw",
        "outputId": "cac1f297-7aaa-404c-d3b3-bbacf0cafaad"
      },
      "execution_count": 45,
      "outputs": [
        {
          "output_type": "stream",
          "name": "stdout",
          "text": [
            "Looking in indexes: https://pypi.org/simple, https://us-python.pkg.dev/colab-wheels/public/simple/\n",
            "Requirement already satisfied: googletrans==3.1.0a0 in /usr/local/lib/python3.9/dist-packages (3.1.0a0)\n",
            "Requirement already satisfied: httpx==0.13.3 in /usr/local/lib/python3.9/dist-packages (from googletrans==3.1.0a0) (0.13.3)\n",
            "Requirement already satisfied: hstspreload in /usr/local/lib/python3.9/dist-packages (from httpx==0.13.3->googletrans==3.1.0a0) (2023.1.1)\n",
            "Requirement already satisfied: rfc3986<2,>=1.3 in /usr/local/lib/python3.9/dist-packages (from httpx==0.13.3->googletrans==3.1.0a0) (1.5.0)\n",
            "Requirement already satisfied: httpcore==0.9.* in /usr/local/lib/python3.9/dist-packages (from httpx==0.13.3->googletrans==3.1.0a0) (0.9.1)\n",
            "Requirement already satisfied: chardet==3.* in /usr/local/lib/python3.9/dist-packages (from httpx==0.13.3->googletrans==3.1.0a0) (3.0.4)\n",
            "Requirement already satisfied: idna==2.* in /usr/local/lib/python3.9/dist-packages (from httpx==0.13.3->googletrans==3.1.0a0) (2.10)\n",
            "Requirement already satisfied: sniffio in /usr/local/lib/python3.9/dist-packages (from httpx==0.13.3->googletrans==3.1.0a0) (1.3.0)\n",
            "Requirement already satisfied: certifi in /usr/local/lib/python3.9/dist-packages (from httpx==0.13.3->googletrans==3.1.0a0) (2022.12.7)\n",
            "Requirement already satisfied: h11<0.10,>=0.8 in /usr/local/lib/python3.9/dist-packages (from httpcore==0.9.*->httpx==0.13.3->googletrans==3.1.0a0) (0.9.0)\n",
            "Requirement already satisfied: h2==3.* in /usr/local/lib/python3.9/dist-packages (from httpcore==0.9.*->httpx==0.13.3->googletrans==3.1.0a0) (3.2.0)\n",
            "Requirement already satisfied: hpack<4,>=3.0 in /usr/local/lib/python3.9/dist-packages (from h2==3.*->httpcore==0.9.*->httpx==0.13.3->googletrans==3.1.0a0) (3.0.0)\n",
            "Requirement already satisfied: hyperframe<6,>=5.2.0 in /usr/local/lib/python3.9/dist-packages (from h2==3.*->httpcore==0.9.*->httpx==0.13.3->googletrans==3.1.0a0) (5.2.0)\n"
          ]
        }
      ]
    },
    {
      "cell_type": "code",
      "source": [
        "from googletrans import Translator\n",
        "translator = Translator()\n",
        "translation = translator.translate('Now hush, little baby  dont you cry\\\n",
        "Everythings gonna be alright\\\n",
        "Stiffen that upper lip up, little lady, I told ya\\\n",
        "Daddys here to hold ya through the night\\\n",
        "I know Mommys not here right now and we dont know why\\\n",
        "We feel how we feel inside\\\n",
        "It may seem a little crazy, pretty baby\\\n",
        "But I promise Mamas gon be alright', dest='vi')\n",
        "speak = gTTS(translation.text, lang = 'vi', slow=False)\n",
        "speak.save('speak.mp3')\n",
        "print(translation.text)"
      ],
      "metadata": {
        "colab": {
          "base_uri": "https://localhost:8080/"
        },
        "id": "guHb4swBhKe0",
        "outputId": "c3fa8774-6580-450e-8ac7-063c0615b787"
      },
      "execution_count": 47,
      "outputs": [
        {
          "output_type": "stream",
          "name": "stdout",
          "text": [
            "Bây giờ im lặng, em bé nhỏ, đừng khóc Mọi chuyện sẽ ổn thôi. Vểnh môi trên lên đi cô gái nhỏ, anh đã nói với em rằng có bố ở đây để ôm em suốt đêm Anh biết mẹ không có ở đây ngay bây giờ và chúng ta không biết tại sao Chúng ta cảm thấy như thế nào trong lòng Có vẻ hơi điên rồ , bé xinhNhưng con hứa với mẹ sẽ không sao đâu\n"
          ]
        }
      ]
    },
    {
      "cell_type": "code",
      "source": [
        "file = '/content/drive/MyDrive/male.wav'\n",
        "import speech_recognition as sr\n",
        "r = sr.Recognizer()\n",
        "with sr.AudioFile(file) as source:\n",
        "  data = r.record(source)\n",
        "  text = r.recognize_google(data)\n",
        "print(text)\n",
        "translator = Translator()\n",
        "trans = translator.translate(text, dest='vi')\n",
        "print('Dịch:', trans.text)\n",
        "speak = gTTS(trans.text, lang = 'vi', slow=False)\n",
        "speak.save('dichanhsangviet.mp3')"
      ],
      "metadata": {
        "colab": {
          "base_uri": "https://localhost:8080/"
        },
        "id": "FdGpjOISj77S",
        "outputId": "dfcb2e97-0aa6-4072-cfb3-fef3f16b8951"
      },
      "execution_count": 50,
      "outputs": [
        {
          "output_type": "stream",
          "name": "stdout",
          "text": [
            "what if somebody decides to break it be careful that you keep adequate coverage but look for places to save money baby it's taking longer to get things squared away than the bankers expected during the wife for once company may win her tax hated retirement income as helpful as our cost on the two naked bone when the title of this type of song is in question there's no dying or waxing or gassing needed maybe personalized leather hard place work on a flat surface and smooth out the simplest kind of separate system uses a single self-contained unit the old shop at it still holds a good mechanic is usually a bad boss both figures would go higher in later years doll houses at set\n",
            "Dịch: Điều gì sẽ xảy ra nếu ai đó quyết định phá vỡ nó, hãy cẩn thận rằng bạn giữ bảo hiểm đầy đủ nhưng hãy tìm những nơi để tiết kiệm tiền, bạn sẽ mất nhiều thời gian hơn để thu xếp mọi thứ bình thường hơn những gì các chủ ngân hàng mong đợi ở người vợ vì một khi công ty có thể giành được khoản thu nhập hưu trí đáng ghét của cô ấy cũng hữu ích như chi phí của chúng tôi trên hai xương trần khi tiêu đề của loại bài hát này được đặt câu hỏi, không cần nhuộm hoặc tẩy lông hoặc tạo khí có thể da được cá nhân hóa làm việc trên một bề mặt phẳng và làm phẳng loại hệ thống riêng biệt đơn giản nhất sử dụng một bản thân duy nhất đơn vị chứa cửa hàng cũ ở đó vẫn giữ một thợ máy giỏi thường là một ông chủ tồi, cả hai con số sẽ tăng cao hơn trong những năm sau đó những ngôi nhà búp bê tại phim trường\n"
          ]
        }
      ]
    },
    {
      "cell_type": "code",
      "source": [
        "pip install transformers"
      ],
      "metadata": {
        "colab": {
          "base_uri": "https://localhost:8080/"
        },
        "id": "JFxAQ8eBnzo-",
        "outputId": "bf056f4e-3db1-44e1-fb70-0dd737b50aef"
      },
      "execution_count": 52,
      "outputs": [
        {
          "output_type": "stream",
          "name": "stdout",
          "text": [
            "Looking in indexes: https://pypi.org/simple, https://us-python.pkg.dev/colab-wheels/public/simple/\n",
            "Collecting transformers\n",
            "  Downloading transformers-4.28.1-py3-none-any.whl (7.0 MB)\n",
            "\u001b[2K     \u001b[90m━━━━━━━━━━━━━━━━━━━━━━━━━━━━━━━━━━━━━━━━\u001b[0m \u001b[32m7.0/7.0 MB\u001b[0m \u001b[31m48.5 MB/s\u001b[0m eta \u001b[36m0:00:00\u001b[0m\n",
            "\u001b[?25hCollecting huggingface-hub<1.0,>=0.11.0\n",
            "  Downloading huggingface_hub-0.14.1-py3-none-any.whl (224 kB)\n",
            "\u001b[2K     \u001b[90m━━━━━━━━━━━━━━━━━━━━━━━━━━━━━━━━━━━━━━\u001b[0m \u001b[32m224.5/224.5 kB\u001b[0m \u001b[31m23.4 MB/s\u001b[0m eta \u001b[36m0:00:00\u001b[0m\n",
            "\u001b[?25hCollecting tokenizers!=0.11.3,<0.14,>=0.11.1\n",
            "  Downloading tokenizers-0.13.3-cp39-cp39-manylinux_2_17_x86_64.manylinux2014_x86_64.whl (7.8 MB)\n",
            "\u001b[2K     \u001b[90m━━━━━━━━━━━━━━━━━━━━━━━━━━━━━━━━━━━━━━━━\u001b[0m \u001b[32m7.8/7.8 MB\u001b[0m \u001b[31m77.8 MB/s\u001b[0m eta \u001b[36m0:00:00\u001b[0m\n",
            "\u001b[?25hRequirement already satisfied: numpy>=1.17 in /usr/local/lib/python3.9/dist-packages (from transformers) (1.22.4)\n",
            "Requirement already satisfied: regex!=2019.12.17 in /usr/local/lib/python3.9/dist-packages (from transformers) (2022.10.31)\n",
            "Requirement already satisfied: pyyaml>=5.1 in /usr/local/lib/python3.9/dist-packages (from transformers) (6.0)\n",
            "Requirement already satisfied: filelock in /usr/local/lib/python3.9/dist-packages (from transformers) (3.11.0)\n",
            "Requirement already satisfied: requests in /usr/local/lib/python3.9/dist-packages (from transformers) (2.27.1)\n",
            "Requirement already satisfied: tqdm>=4.27 in /usr/local/lib/python3.9/dist-packages (from transformers) (4.65.0)\n",
            "Requirement already satisfied: packaging>=20.0 in /usr/local/lib/python3.9/dist-packages (from transformers) (23.1)\n",
            "Requirement already satisfied: typing-extensions>=3.7.4.3 in /usr/local/lib/python3.9/dist-packages (from huggingface-hub<1.0,>=0.11.0->transformers) (4.5.0)\n",
            "Requirement already satisfied: fsspec in /usr/local/lib/python3.9/dist-packages (from huggingface-hub<1.0,>=0.11.0->transformers) (2023.4.0)\n",
            "Requirement already satisfied: charset-normalizer~=2.0.0 in /usr/local/lib/python3.9/dist-packages (from requests->transformers) (2.0.12)\n",
            "Requirement already satisfied: idna<4,>=2.5 in /usr/local/lib/python3.9/dist-packages (from requests->transformers) (2.10)\n",
            "Requirement already satisfied: certifi>=2017.4.17 in /usr/local/lib/python3.9/dist-packages (from requests->transformers) (2022.12.7)\n",
            "Requirement already satisfied: urllib3<1.27,>=1.21.1 in /usr/local/lib/python3.9/dist-packages (from requests->transformers) (1.26.15)\n",
            "Installing collected packages: tokenizers, huggingface-hub, transformers\n",
            "Successfully installed huggingface-hub-0.14.1 tokenizers-0.13.3 transformers-4.28.1\n"
          ]
        }
      ]
    },
    {
      "cell_type": "code",
      "source": [
        "from transformers import pipeline,set_seed\n",
        "\n",
        "generator = pipeline('text-generation', model='gpt2')\n",
        "manual_seed(42)\n",
        "generator('what about eminem', max_length=100, num_return_sequences=5)\n"
      ],
      "metadata": {
        "colab": {
          "base_uri": "https://localhost:8080/"
        },
        "id": "IHVZZJZzoOE3",
        "outputId": "86ee606e-1200-4214-f92d-5da0c500e723"
      },
      "execution_count": 62,
      "outputs": [
        {
          "output_type": "stream",
          "name": "stderr",
          "text": [
            "Setting `pad_token_id` to `eos_token_id`:50256 for open-end generation.\n"
          ]
        },
        {
          "output_type": "execute_result",
          "data": {
            "text/plain": [
              "[{'generated_text': 'what about eminem?\"\\n\\n(Note that the original question was not true, because if anyone in the room had heard the \"Eminem\", they would know that this means \"You are the one who did this,\" by which the word also suggests the actual point.)\\n\\n\"We\\'ll be talking, then. Okay, I guess we can look in the mirror.\"\\n\\nThe other men stopped. They glanced at each other, then back to the room. The people left.\\n'},\n",
              " {'generated_text': 'what about eminem?\"\\n\\n\"Eminem-sama?\"\\n\\n\"Eminem-sama, who are you talking to!?\"\\n\\nAfter he said it I asked,\\n\\n\"Eminem-sama… um, why do you always hide your face and keep your face hidden?\"\\n\\n\"Because you are going to be hurt, right?\"\\n\\n\"Because you are like your real brother right? Eminem-sama, if you are to fight someone like this, then,'},\n",
              " {'generated_text': \"what about eminem, then?) but they do come up with plenty of interesting ideas as to why it is so that the game can not just be played with any sort of other person. Most frequently it would be a game about the player playing the game with a robot or a computer. For instance, that would be a game where all that happens is robots are trying to catch fire.\\n\\n\\nThe question is what happens to the robots? You wouldn't even know about them if it wasn't\"},\n",
              " {'generated_text': \"what about eminem, that's a lie.\\n\\nIf people don't understand what eminem means, then we should learn how to live with it.\\n\\nTo learn more about how to be an eminem, take a look at this quiz, designed to help you understand some of the common eminem words. If you can't grasp something, then go read our How to Be an Eminem here.\\n\\nWe also love hearing from other people interested in being eminem! Come\"},\n",
              " {'generated_text': \"what about eminem? I don't know anything about any of the games on it and I still have issues with it. What I can tell you to do is try a new, better, more polished (more polished) version of the game. Once I fix that this version is pretty strong and will be around forever. The problem is I'll only get one of the versions I want. It sucks, but this version is worth it. I'm going to do this on one of my existing\"}]"
            ]
          },
          "metadata": {},
          "execution_count": 62
        }
      ]
    },
    {
      "cell_type": "code",
      "source": [
        "generator [0]['generated_text']"
      ],
      "metadata": {
        "colab": {
          "base_uri": "https://localhost:8080/",
          "height": 165
        },
        "id": "ar1_Q27NrEbv",
        "outputId": "c090c13f-ae6e-41df-8b29-81c1c2753f86"
      },
      "execution_count": 65,
      "outputs": [
        {
          "output_type": "error",
          "ename": "TypeError",
          "evalue": "ignored",
          "traceback": [
            "\u001b[0;31m---------------------------------------------------------------------------\u001b[0m",
            "\u001b[0;31mTypeError\u001b[0m                                 Traceback (most recent call last)",
            "\u001b[0;32m<ipython-input-65-10df8eaeef0e>\u001b[0m in \u001b[0;36m<cell line: 1>\u001b[0;34m()\u001b[0m\n\u001b[0;32m----> 1\u001b[0;31m \u001b[0mgenerator\u001b[0m \u001b[0;34m[\u001b[0m\u001b[0;36m0\u001b[0m\u001b[0;34m]\u001b[0m\u001b[0;34m[\u001b[0m\u001b[0;34m'generated_text'\u001b[0m\u001b[0;34m]\u001b[0m\u001b[0;34m\u001b[0m\u001b[0;34m\u001b[0m\u001b[0m\n\u001b[0m",
            "\u001b[0;31mTypeError\u001b[0m: 'TextGenerationPipeline' object is not subscriptable"
          ]
        }
      ]
    }
  ]
}
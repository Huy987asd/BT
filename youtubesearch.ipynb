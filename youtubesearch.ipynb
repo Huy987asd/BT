{
  "nbformat": 4,
  "nbformat_minor": 0,
  "metadata": {
    "colab": {
      "provenance": [],
      "mount_file_id": "1T4IPx-3ZH9gu-BkI9nhn0qvQVKF2KowN",
      "authorship_tag": "ABX9TyPlnoNKgiXBEK8D+xTAGkxe",
      "include_colab_link": true
    },
    "kernelspec": {
      "name": "python3",
      "display_name": "Python 3"
    },
    "language_info": {
      "name": "python"
    },
    "accelerator": "GPU",
    "gpuClass": "standard"
  },
  "cells": [
    {
      "cell_type": "markdown",
      "metadata": {
        "id": "view-in-github",
        "colab_type": "text"
      },
      "source": [
        "<a href=\"https://colab.research.google.com/github/Huy987asd/BT/blob/main/youtubesearch.ipynb\" target=\"_parent\"><img src=\"https://colab.research.google.com/assets/colab-badge.svg\" alt=\"Open In Colab\"/></a>"
      ]
    },
    {
      "cell_type": "code",
      "execution_count": 7,
      "metadata": {
        "colab": {
          "base_uri": "https://localhost:8080/"
        },
        "id": "2Wj8TMNKEd8u",
        "outputId": "83da3030-ca1c-413d-f7a0-9320e0ef6f76"
      },
      "outputs": [
        {
          "output_type": "stream",
          "name": "stdout",
          "text": [
            "Looking in indexes: https://pypi.org/simple, https://us-python.pkg.dev/colab-wheels/public/simple/\n",
            "Requirement already satisfied: youtube_search in /usr/local/lib/python3.9/dist-packages (2.1.2)\n",
            "Requirement already satisfied: requests in /usr/local/lib/python3.9/dist-packages (from youtube_search) (2.27.1)\n",
            "Requirement already satisfied: idna<4,>=2.5 in /usr/local/lib/python3.9/dist-packages (from requests->youtube_search) (3.4)\n",
            "Requirement already satisfied: urllib3<1.27,>=1.21.1 in /usr/local/lib/python3.9/dist-packages (from requests->youtube_search) (1.26.15)\n",
            "Requirement already satisfied: charset-normalizer~=2.0.0 in /usr/local/lib/python3.9/dist-packages (from requests->youtube_search) (2.0.12)\n",
            "Requirement already satisfied: certifi>=2017.4.17 in /usr/local/lib/python3.9/dist-packages (from requests->youtube_search) (2022.12.7)\n"
          ]
        }
      ],
      "source": [
        "pip install youtube_search\n"
      ]
    },
    {
      "cell_type": "code",
      "source": [
        "pip install openpyxl"
      ],
      "metadata": {
        "colab": {
          "base_uri": "https://localhost:8080/"
        },
        "id": "k3f4oX3CHbty",
        "outputId": "30c76146-9ec5-4ef9-fe91-4443926528a4"
      },
      "execution_count": 8,
      "outputs": [
        {
          "output_type": "stream",
          "name": "stdout",
          "text": [
            "Looking in indexes: https://pypi.org/simple, https://us-python.pkg.dev/colab-wheels/public/simple/\n",
            "Requirement already satisfied: openpyxl in /usr/local/lib/python3.9/dist-packages (3.0.10)\n",
            "Requirement already satisfied: et-xmlfile in /usr/local/lib/python3.9/dist-packages (from openpyxl) (1.1.0)\n"
          ]
        }
      ]
    },
    {
      "cell_type": "code",
      "source": [
        "from youtube_search import YoutubeSearch\n",
        "import webbrowser \n",
        "\n",
        "mysong = input ('nhap ten bai hat: ')\n",
        "\n",
        "result= YoutubeSearch(mysong, max_results =10).to_dict()\n",
        "print(result)\n",
        "print(result[0]['url_suffix'])\n",
        "url ='http://www.youtube.com'+result[0]['url_suffix']\n",
        "print(url)\n"
      ],
      "metadata": {
        "colab": {
          "base_uri": "https://localhost:8080/"
        },
        "id": "xjkfPz4rFZyM",
        "outputId": "be9985e3-6de9-4bd9-d634-20c410e159dd"
      },
      "execution_count": 12,
      "outputs": [
        {
          "output_type": "stream",
          "name": "stdout",
          "text": [
            "nhap ten bai hat: FORREST GUMP ROBBER\n",
            "[{'id': '48GqambDvLk', 'thumbnails': ['https://i.ytimg.com/vi/48GqambDvLk/hq720.jpg?sqp=-oaymwE9COgCEMoBSFryq4qpAy8IARUAAAAAGAElAADIQj0AgKJDeAHwAQH4Af4JgALQBYoCDAgAEAEYfyAgKEMwDw==&rs=AOn4CLAg5NKs0s4o8bv74IR4_gShNBzV-Q', 'https://i.ytimg.com/vi/48GqambDvLk/hq720.jpg?sqp=-oaymwExCNAFEJQDSFryq4qpAyMIARUAAIhCGAHwAQH4Af4JgALQBYoCDAgAEAEYfyAgKEMwDw==&rs=AOn4CLCsu3MzbmfqjB3MXqCu5nSbsFyaiQ'], 'title': 'REMAKE - HU$TLANG Robe - FORREST GUMP ( Video Lyrics)', 'long_desc': None, 'channel': '1Hour Official', 'duration': '4:14', 'views': '4.572.706 weergaven', 'publish_time': '1 jaar geleden', 'url_suffix': '/watch?v=48GqambDvLk&pp=ygUTRk9SUkVTVCBHVU1QIFJPQkJFUg%3D%3D'}, {'id': 'Eobm6s5ASVE', 'thumbnails': ['https://i.ytimg.com/vi/Eobm6s5ASVE/hq720.jpg?sqp=-oaymwE9COgCEMoBSFryq4qpAy8IARUAAAAAGAElAADIQj0AgKJDeAHwAQH4Af4JgALQBYoCDAgAEAEYPiBlKDgwDw==&rs=AOn4CLC0TWsPrdvNNFUg1vZ4DV_tJZy8lQ', 'https://i.ytimg.com/vi/Eobm6s5ASVE/hq720.jpg?sqp=-oaymwExCNAFEJQDSFryq4qpAyMIARUAAIhCGAHwAQH4Af4JgALQBYoCDAgAEAEYPiBlKDgwDw==&rs=AOn4CLArhrGxR9-8HZ03Ll5gzrFxLdg_SA'], 'title': 'FOREST GUMP Forest and Bubba meeting Lieutenant Dan for the first time Scene | HD Video | 1994', 'long_desc': None, 'channel': 'Vejai', 'duration': '3:40', 'views': '821.350 weergaven', 'publish_time': '4 jaar geleden', 'url_suffix': '/watch?v=Eobm6s5ASVE&pp=ygUTRk9SUkVTVCBHVU1QIFJPQkJFUg%3D%3D'}, {'id': '1ivlIuu4GSo', 'thumbnails': ['https://i.ytimg.com/vi/1ivlIuu4GSo/hq720.jpg?sqp=-oaymwEjCOgCEMoBSFryq4qpAxUIARUAAAAAGAElAADIQj0AgKJDeAE=&rs=AOn4CLBCdiVVzYC-2GwsILsKfll2ZZ2PPw', 'https://i.ytimg.com/vi/1ivlIuu4GSo/hq720.jpg?sqp=-oaymwEXCNAFEJQDSFryq4qpAwkIARUAAIhCGAE=&rs=AOn4CLBnlSvvUyNFl55Q6voK656GvHRHiw'], 'title': 'Forrest Gump | Film Symphony| Barcelona 2014', 'long_desc': None, 'channel': 'filmsymphony', 'duration': '6:24', 'views': '626.107 weergaven', 'publish_time': '8 jaar geleden', 'url_suffix': '/watch?v=1ivlIuu4GSo&pp=ygUTRk9SUkVTVCBHVU1QIFJPQkJFUg%3D%3D'}, {'id': '21V966RgtJs', 'thumbnails': ['https://i.ytimg.com/vi/21V966RgtJs/hq720.jpg?sqp=-oaymwE9COgCEMoBSFryq4qpAy8IARUAAAAAGAElAADIQj0AgKJDeAHwAQH4AdQGgALgA4oCDAgAEAEYZSBaKE8wDw==&rs=AOn4CLBWGsArl7GEFNWGKeRUROYHS4PYBQ', 'https://i.ytimg.com/vi/21V966RgtJs/hq720.jpg?sqp=-oaymwExCNAFEJQDSFryq4qpAyMIARUAAIhCGAHwAQH4AdQGgALgA4oCDAgAEAEYZSBaKE8wDw==&rs=AOn4CLCO995M9HOCnVoFIBPDrVVgzSrQeA'], 'title': 'ROBE - Forrest Gump', 'long_desc': None, 'channel': 'Yêu rap việt', 'duration': '4:07', 'views': '78.290 weergaven', 'publish_time': '2 jaar geleden', 'url_suffix': '/watch?v=21V966RgtJs&pp=ygUTRk9SUkVTVCBHVU1QIFJPQkJFUg%3D%3D'}, {'id': 'bSMxl1V8FSg', 'thumbnails': ['https://i.ytimg.com/vi/bSMxl1V8FSg/hq720.jpg?sqp=-oaymwEjCOgCEMoBSFryq4qpAxUIARUAAAAAGAElAADIQj0AgKJDeAE=&rs=AOn4CLANCnhLMbQgXNMvfn6-JpUGCtS0kQ', 'https://i.ytimg.com/vi/bSMxl1V8FSg/hq720.jpg?sqp=-oaymwEXCNAFEJQDSFryq4qpAwkIARUAAIhCGAE=&rs=AOn4CLAD1KZCQkHmiV59-c4lNLWWiASJ7Q'], 'title': 'Forrest Gump (1994) - Run, Forrest, Run! Scene | Movieclips', 'long_desc': None, 'channel': 'Movieclips', 'duration': '2:23', 'views': '74.668 weergaven', 'publish_time': '2 maanden geleden', 'url_suffix': '/watch?v=bSMxl1V8FSg&pp=ygUTRk9SUkVTVCBHVU1QIFJPQkJFUg%3D%3D'}, {'id': 'ydGA_56BGAE', 'thumbnails': ['https://i.ytimg.com/vi/ydGA_56BGAE/hq720.jpg?sqp=-oaymwEjCOgCEMoBSFryq4qpAxUIARUAAAAAGAElAADIQj0AgKJDeAE=&rs=AOn4CLBXz_z6oJrwXMenmzZdUpFgk8lW7g', 'https://i.ytimg.com/vi/ydGA_56BGAE/hq720.jpg?sqp=-oaymwEXCNAFEJQDSFryq4qpAwkIARUAAIhCGAE=&rs=AOn4CLBPnAZHfAo9ffVTCGOK_hbI8gDqyw'], 'title': 'Watergate Scandal Nixon | Your Service is Up Son - Forrest Gump (1994) - Movie Clip HD Scene', 'long_desc': None, 'channel': 'Legendary Movie Scenes', 'duration': '2:26', 'views': '250.307 weergaven', 'publish_time': '3 jaar geleden', 'url_suffix': '/watch?v=ydGA_56BGAE&pp=ygUTRk9SUkVTVCBHVU1QIFJPQkJFUg%3D%3D'}, {'id': 'G0zaOjaflHg', 'thumbnails': ['https://i.ytimg.com/vi/G0zaOjaflHg/hq720.jpg?sqp=-oaymwEjCOgCEMoBSFryq4qpAxUIARUAAAAAGAElAADIQj0AgKJDeAE=&rs=AOn4CLBRw2gt3GFe3op7sZNkJtwAXQLQaw', 'https://i.ytimg.com/vi/G0zaOjaflHg/hq720.jpg?sqp=-oaymwEXCNAFEJQDSFryq4qpAwkIARUAAIhCGAE=&rs=AOn4CLBUnWzXWrHdclDiizdV_8xQMIXdLA'], 'title': 'XFM - Forrest Gump In A Wheelie Bin', 'long_desc': None, 'channel': 'EvilToaster', 'duration': '6:38', 'views': '143.454 weergaven', 'publish_time': '8 jaar geleden', 'url_suffix': '/watch?v=G0zaOjaflHg&pp=ygUTRk9SUkVTVCBHVU1QIFJPQkJFUg%3D%3D'}, {'id': 'tcAWmsUPgVU', 'thumbnails': ['https://i.ytimg.com/vi/tcAWmsUPgVU/hq720.jpg?sqp=-oaymwEjCOgCEMoBSFryq4qpAxUIARUAAAAAGAElAADIQj0AgKJDeAE=&rs=AOn4CLCNyOhOk8q112lucQn0IlnYqW0FAg', 'https://i.ytimg.com/vi/tcAWmsUPgVU/hq720.jpg?sqp=-oaymwEXCNAFEJQDSFryq4qpAwkIARUAAIhCGAE=&rs=AOn4CLAgbQvKBUMboveiG-QPhT86n_upHQ'], 'title': 'Robe - Forrest Gump (w/ Hustlang) [LIVE @ 1900 Hip Hop Party #06]', 'long_desc': None, 'channel': '1900 LE THÉÂTRE', 'duration': '4:28', 'views': '698.626 weergaven', 'publish_time': '2 jaar geleden', 'url_suffix': '/watch?v=tcAWmsUPgVU&pp=ygUTRk9SUkVTVCBHVU1QIFJPQkJFUg%3D%3D'}, {'id': '4fIfvQDTU0c', 'thumbnails': ['https://i.ytimg.com/vi/4fIfvQDTU0c/hq720.jpg?sqp=-oaymwEjCOgCEMoBSFryq4qpAxUIARUAAAAAGAElAADIQj0AgKJDeAE=&rs=AOn4CLDGR-NLlFGka7gEyt7ZgOBiA1V3Ag', 'https://i.ytimg.com/vi/4fIfvQDTU0c/hq720.jpg?sqp=-oaymwEXCNAFEJQDSFryq4qpAwkIARUAAIhCGAE=&rs=AOn4CLDt_JPi8RPnviZHgOaDTneVO_NNjQ'], 'title': 'Hustlang Robber -  Forrest Gump /w Ma Band (Acoustic Live)', 'long_desc': None, 'channel': 'Hustlang Record', 'duration': '4:45', 'views': '69.746 weergaven', 'publish_time': '2 jaar geleden', 'url_suffix': '/watch?v=4fIfvQDTU0c&pp=ygUTRk9SUkVTVCBHVU1QIFJPQkJFUg%3D%3D'}, {'id': 'd8l0J41YCoc', 'thumbnails': ['https://i.ytimg.com/vi/d8l0J41YCoc/hq720.jpg?sqp=-oaymwEjCOgCEMoBSFryq4qpAxUIARUAAAAAGAElAADIQj0AgKJDeAE=&rs=AOn4CLBwpolR1TqkHWSZ3VuRJ-hE_5rdgw', 'https://i.ytimg.com/vi/d8l0J41YCoc/hq720.jpg?sqp=-oaymwEXCNAFEJQDSFryq4qpAwkIARUAAIhCGAE=&rs=AOn4CLCJMBEsh4-VMPAZ8vkDEyV3abjsCg'], 'title': 'Forrest Gump: Saving lives in Vietnam (HD CLIP)', 'long_desc': None, 'channel': 'Binge Society ', 'duration': '5:11', 'views': '4.616.793 weergaven', 'publish_time': '1 jaar geleden', 'url_suffix': '/watch?v=d8l0J41YCoc&pp=ygUTRk9SUkVTVCBHVU1QIFJPQkJFUg%3D%3D'}]\n",
            "/watch?v=48GqambDvLk&pp=ygUTRk9SUkVTVCBHVU1QIFJPQkJFUg%3D%3D\n",
            "http://www.youtube.com/watch?v=48GqambDvLk&pp=ygUTRk9SUkVTVCBHVU1QIFJPQkJFUg%3D%3D\n"
          ]
        }
      ]
    },
    {
      "cell_type": "code",
      "source": [
        "from youtube_search import YoutubeSearch\n",
        "import webbrowser \n",
        "from openpyxl import Workbook\n",
        "\n",
        "data = Workbook()\n",
        "sheet = data.active\n",
        "mysong = input('XIN MOI NHAP  TEN BAI HAT: ')\n",
        "\n",
        "print(mysong)\n",
        "result = YoutubeSearch(mysong, max_results=10).to_dict()\n",
        "print(result)\n",
        "\n",
        "for i in range(10):\n",
        "  print(result[i]['title'])\n",
        "  print(result[i]['url_suffix'])\n",
        "  url= 'https://www.youtube.com'+ result[i]['url_suffix']\n",
        "  print(url)\n",
        "\n",
        "  sheet['A'+str(i+1)]=i+1\n",
        "  sheet['B'+str(i+1)]= result[i]['title']\n",
        "  sheet['C'+str(i+1)]=result[i]['url_suffix']\n",
        "  sheet['D'+str(i+1)]=result[i]['views']\n",
        "\n",
        "data.save('BT.xlsx')"
      ],
      "metadata": {
        "colab": {
          "base_uri": "https://localhost:8080/"
        },
        "id": "uJhoxanUG6KG",
        "outputId": "9ba57db0-ab37-44dc-bfd0-c834521f8eb7"
      },
      "execution_count": 13,
      "outputs": [
        {
          "output_type": "stream",
          "name": "stdout",
          "text": [
            "XIN MOI NHAP  TEN BAI HAT: FORREST GUMP ROBBER\n",
            "FORREST GUMP ROBBER\n",
            "[{'id': '48GqambDvLk', 'thumbnails': ['https://i.ytimg.com/vi/48GqambDvLk/hq720.jpg?sqp=-oaymwE9COgCEMoBSFryq4qpAy8IARUAAAAAGAElAADIQj0AgKJDeAHwAQH4Af4JgALQBYoCDAgAEAEYfyAgKEMwDw==&rs=AOn4CLAg5NKs0s4o8bv74IR4_gShNBzV-Q', 'https://i.ytimg.com/vi/48GqambDvLk/hq720.jpg?sqp=-oaymwExCNAFEJQDSFryq4qpAyMIARUAAIhCGAHwAQH4Af4JgALQBYoCDAgAEAEYfyAgKEMwDw==&rs=AOn4CLCsu3MzbmfqjB3MXqCu5nSbsFyaiQ'], 'title': 'REMAKE - HU$TLANG Robe - FORREST GUMP ( Video Lyrics)', 'long_desc': None, 'channel': '1Hour Official', 'duration': '4:14', 'views': '4.572.706 weergaven', 'publish_time': '1 jaar geleden', 'url_suffix': '/watch?v=48GqambDvLk&pp=ygUTRk9SUkVTVCBHVU1QIFJPQkJFUg%3D%3D'}, {'id': 'Eobm6s5ASVE', 'thumbnails': ['https://i.ytimg.com/vi/Eobm6s5ASVE/hq720.jpg?sqp=-oaymwE9COgCEMoBSFryq4qpAy8IARUAAAAAGAElAADIQj0AgKJDeAHwAQH4Af4JgALQBYoCDAgAEAEYPiBlKDgwDw==&rs=AOn4CLC0TWsPrdvNNFUg1vZ4DV_tJZy8lQ', 'https://i.ytimg.com/vi/Eobm6s5ASVE/hq720.jpg?sqp=-oaymwExCNAFEJQDSFryq4qpAyMIARUAAIhCGAHwAQH4Af4JgALQBYoCDAgAEAEYPiBlKDgwDw==&rs=AOn4CLArhrGxR9-8HZ03Ll5gzrFxLdg_SA'], 'title': 'FOREST GUMP Forest and Bubba meeting Lieutenant Dan for the first time Scene | HD Video | 1994', 'long_desc': None, 'channel': 'Vejai', 'duration': '3:40', 'views': '821.350 weergaven', 'publish_time': '4 jaar geleden', 'url_suffix': '/watch?v=Eobm6s5ASVE&pp=ygUTRk9SUkVTVCBHVU1QIFJPQkJFUg%3D%3D'}, {'id': 'ydGA_56BGAE', 'thumbnails': ['https://i.ytimg.com/vi/ydGA_56BGAE/hq720.jpg?sqp=-oaymwEjCOgCEMoBSFryq4qpAxUIARUAAAAAGAElAADIQj0AgKJDeAE=&rs=AOn4CLBXz_z6oJrwXMenmzZdUpFgk8lW7g', 'https://i.ytimg.com/vi/ydGA_56BGAE/hq720.jpg?sqp=-oaymwEXCNAFEJQDSFryq4qpAwkIARUAAIhCGAE=&rs=AOn4CLBPnAZHfAo9ffVTCGOK_hbI8gDqyw'], 'title': 'Watergate Scandal Nixon | Your Service is Up Son - Forrest Gump (1994) - Movie Clip HD Scene', 'long_desc': None, 'channel': 'Legendary Movie Scenes', 'duration': '2:26', 'views': '250.307 weergaven', 'publish_time': '3 jaar geleden', 'url_suffix': '/watch?v=ydGA_56BGAE&pp=ygUTRk9SUkVTVCBHVU1QIFJPQkJFUg%3D%3D'}, {'id': '21V966RgtJs', 'thumbnails': ['https://i.ytimg.com/vi/21V966RgtJs/hq720.jpg?sqp=-oaymwE9COgCEMoBSFryq4qpAy8IARUAAAAAGAElAADIQj0AgKJDeAHwAQH4AdQGgALgA4oCDAgAEAEYZSBaKE8wDw==&rs=AOn4CLBWGsArl7GEFNWGKeRUROYHS4PYBQ', 'https://i.ytimg.com/vi/21V966RgtJs/hq720.jpg?sqp=-oaymwExCNAFEJQDSFryq4qpAyMIARUAAIhCGAHwAQH4AdQGgALgA4oCDAgAEAEYZSBaKE8wDw==&rs=AOn4CLCO995M9HOCnVoFIBPDrVVgzSrQeA'], 'title': 'ROBE - Forrest Gump', 'long_desc': None, 'channel': 'Yêu rap việt', 'duration': '4:07', 'views': '78.290 weergaven', 'publish_time': '2 jaar geleden', 'url_suffix': '/watch?v=21V966RgtJs&pp=ygUTRk9SUkVTVCBHVU1QIFJPQkJFUg%3D%3D'}, {'id': 'tcAWmsUPgVU', 'thumbnails': ['https://i.ytimg.com/vi/tcAWmsUPgVU/hq720.jpg?sqp=-oaymwEjCOgCEMoBSFryq4qpAxUIARUAAAAAGAElAADIQj0AgKJDeAE=&rs=AOn4CLCNyOhOk8q112lucQn0IlnYqW0FAg', 'https://i.ytimg.com/vi/tcAWmsUPgVU/hq720.jpg?sqp=-oaymwEXCNAFEJQDSFryq4qpAwkIARUAAIhCGAE=&rs=AOn4CLAgbQvKBUMboveiG-QPhT86n_upHQ'], 'title': 'Robe - Forrest Gump (w/ Hustlang) [LIVE @ 1900 Hip Hop Party #06]', 'long_desc': None, 'channel': '1900 LE THÉÂTRE', 'duration': '4:28', 'views': '698.626 weergaven', 'publish_time': '2 jaar geleden', 'url_suffix': '/watch?v=tcAWmsUPgVU&pp=ygUTRk9SUkVTVCBHVU1QIFJPQkJFUg%3D%3D'}, {'id': 'G0zaOjaflHg', 'thumbnails': ['https://i.ytimg.com/vi/G0zaOjaflHg/hq720.jpg?sqp=-oaymwEjCOgCEMoBSFryq4qpAxUIARUAAAAAGAElAADIQj0AgKJDeAE=&rs=AOn4CLBRw2gt3GFe3op7sZNkJtwAXQLQaw', 'https://i.ytimg.com/vi/G0zaOjaflHg/hq720.jpg?sqp=-oaymwEXCNAFEJQDSFryq4qpAwkIARUAAIhCGAE=&rs=AOn4CLBUnWzXWrHdclDiizdV_8xQMIXdLA'], 'title': 'XFM - Forrest Gump In A Wheelie Bin', 'long_desc': None, 'channel': 'EvilToaster', 'duration': '6:38', 'views': '143.454 weergaven', 'publish_time': '8 jaar geleden', 'url_suffix': '/watch?v=G0zaOjaflHg&pp=ygUTRk9SUkVTVCBHVU1QIFJPQkJFUg%3D%3D'}, {'id': 'bSMxl1V8FSg', 'thumbnails': ['https://i.ytimg.com/vi/bSMxl1V8FSg/hq720.jpg?sqp=-oaymwEjCOgCEMoBSFryq4qpAxUIARUAAAAAGAElAADIQj0AgKJDeAE=&rs=AOn4CLANCnhLMbQgXNMvfn6-JpUGCtS0kQ', 'https://i.ytimg.com/vi/bSMxl1V8FSg/hq720.jpg?sqp=-oaymwEXCNAFEJQDSFryq4qpAwkIARUAAIhCGAE=&rs=AOn4CLAD1KZCQkHmiV59-c4lNLWWiASJ7Q'], 'title': 'Forrest Gump (1994) - Run, Forrest, Run! Scene | Movieclips', 'long_desc': None, 'channel': 'Movieclips', 'duration': '2:23', 'views': '74.668 weergaven', 'publish_time': '2 maanden geleden', 'url_suffix': '/watch?v=bSMxl1V8FSg&pp=ygUTRk9SUkVTVCBHVU1QIFJPQkJFUg%3D%3D'}, {'id': 'NR1rV6MtIco', 'thumbnails': ['https://i.ytimg.com/vi/NR1rV6MtIco/hqdefault.jpg?sqp=-oaymwEjCOADEI4CSFryq4qpAxUIARUAAAAAGAElAADIQj0AgKJDeAE=&rs=AOn4CLAf0GVZPWYounRWVnB1n6rOSeaWSQ'], 'title': 'Forrest Gump Family Guy', 'long_desc': None, 'channel': 'Asa Elliott', 'duration': '0:38', 'views': '2.702.063 weergaven', 'publish_time': '9 jaar geleden', 'url_suffix': '/watch?v=NR1rV6MtIco&pp=ygUTRk9SUkVTVCBHVU1QIFJPQkJFUg%3D%3D'}, {'id': 'd8l0J41YCoc', 'thumbnails': ['https://i.ytimg.com/vi/d8l0J41YCoc/hq720.jpg?sqp=-oaymwEjCOgCEMoBSFryq4qpAxUIARUAAAAAGAElAADIQj0AgKJDeAE=&rs=AOn4CLBwpolR1TqkHWSZ3VuRJ-hE_5rdgw', 'https://i.ytimg.com/vi/d8l0J41YCoc/hq720.jpg?sqp=-oaymwEXCNAFEJQDSFryq4qpAwkIARUAAIhCGAE=&rs=AOn4CLCJMBEsh4-VMPAZ8vkDEyV3abjsCg'], 'title': 'Forrest Gump: Saving lives in Vietnam (HD CLIP)', 'long_desc': None, 'channel': 'Binge Society ', 'duration': '5:11', 'views': '4.616.793 weergaven', 'publish_time': '1 jaar geleden', 'url_suffix': '/watch?v=d8l0J41YCoc&pp=ygUTRk9SUkVTVCBHVU1QIFJPQkJFUg%3D%3D'}, {'id': 'u77wp5cAPwY', 'thumbnails': ['https://i.ytimg.com/vi/u77wp5cAPwY/hq720.jpg?sqp=-oaymwEjCOgCEMoBSFryq4qpAxUIARUAAAAAGAElAADIQj0AgKJDeAE=&rs=AOn4CLAyj960DGPM6Ksismw0axUTrA7C8Q', 'https://i.ytimg.com/vi/u77wp5cAPwY/hq720.jpg?sqp=-oaymwEXCNAFEJQDSFryq4qpAwkIARUAAIhCGAE=&rs=AOn4CLBdSzkcR03bp76gcpGW-IvRCgj0Xg'], 'title': 'Alan Silvestri - Suite From Forrest Gump (Audio)', 'long_desc': None, 'channel': 'LegacyRecordingsVEVO', 'duration': '6:37', 'views': '862.289 weergaven', 'publish_time': '7 jaar geleden', 'url_suffix': '/watch?v=u77wp5cAPwY&pp=ygUTRk9SUkVTVCBHVU1QIFJPQkJFUg%3D%3D'}]\n",
            "REMAKE - HU$TLANG Robe - FORREST GUMP ( Video Lyrics)\n",
            "/watch?v=48GqambDvLk&pp=ygUTRk9SUkVTVCBHVU1QIFJPQkJFUg%3D%3D\n",
            "https://www.youtube.com/watch?v=48GqambDvLk&pp=ygUTRk9SUkVTVCBHVU1QIFJPQkJFUg%3D%3D\n",
            "FOREST GUMP Forest and Bubba meeting Lieutenant Dan for the first time Scene | HD Video | 1994\n",
            "/watch?v=Eobm6s5ASVE&pp=ygUTRk9SUkVTVCBHVU1QIFJPQkJFUg%3D%3D\n",
            "https://www.youtube.com/watch?v=Eobm6s5ASVE&pp=ygUTRk9SUkVTVCBHVU1QIFJPQkJFUg%3D%3D\n",
            "Watergate Scandal Nixon | Your Service is Up Son - Forrest Gump (1994) - Movie Clip HD Scene\n",
            "/watch?v=ydGA_56BGAE&pp=ygUTRk9SUkVTVCBHVU1QIFJPQkJFUg%3D%3D\n",
            "https://www.youtube.com/watch?v=ydGA_56BGAE&pp=ygUTRk9SUkVTVCBHVU1QIFJPQkJFUg%3D%3D\n",
            "ROBE - Forrest Gump\n",
            "/watch?v=21V966RgtJs&pp=ygUTRk9SUkVTVCBHVU1QIFJPQkJFUg%3D%3D\n",
            "https://www.youtube.com/watch?v=21V966RgtJs&pp=ygUTRk9SUkVTVCBHVU1QIFJPQkJFUg%3D%3D\n",
            "Robe - Forrest Gump (w/ Hustlang) [LIVE @ 1900 Hip Hop Party #06]\n",
            "/watch?v=tcAWmsUPgVU&pp=ygUTRk9SUkVTVCBHVU1QIFJPQkJFUg%3D%3D\n",
            "https://www.youtube.com/watch?v=tcAWmsUPgVU&pp=ygUTRk9SUkVTVCBHVU1QIFJPQkJFUg%3D%3D\n",
            "XFM - Forrest Gump In A Wheelie Bin\n",
            "/watch?v=G0zaOjaflHg&pp=ygUTRk9SUkVTVCBHVU1QIFJPQkJFUg%3D%3D\n",
            "https://www.youtube.com/watch?v=G0zaOjaflHg&pp=ygUTRk9SUkVTVCBHVU1QIFJPQkJFUg%3D%3D\n",
            "Forrest Gump (1994) - Run, Forrest, Run! Scene | Movieclips\n",
            "/watch?v=bSMxl1V8FSg&pp=ygUTRk9SUkVTVCBHVU1QIFJPQkJFUg%3D%3D\n",
            "https://www.youtube.com/watch?v=bSMxl1V8FSg&pp=ygUTRk9SUkVTVCBHVU1QIFJPQkJFUg%3D%3D\n",
            "Forrest Gump Family Guy\n",
            "/watch?v=NR1rV6MtIco&pp=ygUTRk9SUkVTVCBHVU1QIFJPQkJFUg%3D%3D\n",
            "https://www.youtube.com/watch?v=NR1rV6MtIco&pp=ygUTRk9SUkVTVCBHVU1QIFJPQkJFUg%3D%3D\n",
            "Forrest Gump: Saving lives in Vietnam (HD CLIP)\n",
            "/watch?v=d8l0J41YCoc&pp=ygUTRk9SUkVTVCBHVU1QIFJPQkJFUg%3D%3D\n",
            "https://www.youtube.com/watch?v=d8l0J41YCoc&pp=ygUTRk9SUkVTVCBHVU1QIFJPQkJFUg%3D%3D\n",
            "Alan Silvestri - Suite From Forrest Gump (Audio)\n",
            "/watch?v=u77wp5cAPwY&pp=ygUTRk9SUkVTVCBHVU1QIFJPQkJFUg%3D%3D\n",
            "https://www.youtube.com/watch?v=u77wp5cAPwY&pp=ygUTRk9SUkVTVCBHVU1QIFJPQkJFUg%3D%3D\n"
          ]
        }
      ]
    },
    {
      "cell_type": "code",
      "source": [],
      "metadata": {
        "id": "Bpy5MuxmMVPJ"
      },
      "execution_count": null,
      "outputs": []
    }
  ]
}